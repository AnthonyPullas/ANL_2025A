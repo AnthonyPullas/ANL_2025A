{
 "cells": [
  {
   "cell_type": "markdown",
   "id": "c4b035dc",
   "metadata": {},
   "source": [
    "# Métodos Iterativos para sistemas lineales\n",
    "## Gauss - Seidel"
   ]
  },
  {
   "cell_type": "code",
   "execution_count": 26,
   "id": "97cf5ee0",
   "metadata": {},
   "outputs": [],
   "source": [
    "import numpy as np\n",
    "\n",
    "def norm(v):\n",
    "    return np.linalg.norm(v, ord=np.inf)\n",
    "def gauss(A,b,x0,tolerance):\n",
    "    x = x0.copy()\n",
    "    k = 0\n",
    "    while norm(b-A*x)>tolerance and k<=100:\n",
    "        x_ant = x.copy()\n",
    "        for i in range(len(A)):\n",
    "            s1 = 0\n",
    "            s2 = 0\n",
    "            for j in range(0,i):\n",
    "                s1 += A[i,j]*x[j]\n",
    "            for j in range(i+1,len(A)):\n",
    "                s2 += A[i,j]*x_ant[j]\n",
    "            x[i] = (b[i]-s1-s2)/A[i,i]\n",
    "            k += 1\n",
    "    return x"
   ]
  },
  {
   "cell_type": "code",
   "execution_count": 28,
   "id": "035910be",
   "metadata": {},
   "outputs": [
    {
     "name": "stdout",
     "output_type": "stream",
     "text": [
      "Solución aproximada: [ 0.55096154 -0.63846154  0.42596154]\n"
     ]
    }
   ],
   "source": [
    "# Datos del ejemplo\n",
    "A = np.array([[10, -1, 2],\n",
    "              [-1, 11, -1],\n",
    "              [2, -1, 10]], dtype=float)\n",
    "b = np.array([7, -8, 6], dtype=float)\n",
    "x0 = np.zeros_like(b)\n",
    "\n",
    "sol = gauss(A, b, x0, tolerance=1e-6)\n",
    "print(\"Solución aproximada:\", sol)"
   ]
  }
 ],
 "metadata": {
  "kernelspec": {
   "display_name": "venv",
   "language": "python",
   "name": "python3"
  },
  "language_info": {
   "codemirror_mode": {
    "name": "ipython",
    "version": 3
   },
   "file_extension": ".py",
   "mimetype": "text/x-python",
   "name": "python",
   "nbconvert_exporter": "python",
   "pygments_lexer": "ipython3",
   "version": "3.13.2"
  }
 },
 "nbformat": 4,
 "nbformat_minor": 5
}
